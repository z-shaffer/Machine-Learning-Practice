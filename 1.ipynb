import matplotlib.pyplot as plt
import pandas as pd

from google.colab import files
 
 
uploaded = files.upload()


# Task 1

# 1.1:
fig, ax = plt.subplots(2, 2)
df = pd.read_csv("fire_nrt_V1_96617.csv")
X = df.longitude
y = df.latitude
ax[0,0].scatter(X, y)
ax[0,0].set_title("plot 1")
ax[0,1].scatter(X, y, alpha=0.4, s=0.5)
ax[0,1].set_title("plot 2")
ax[1,0].hexbin(X, y,bins=5)
ax[1,0].set_title("plot 3")

X_ = X.sample(50)
y_ = y.sample(50)

ax[1,1].scatter(X_, y_)
ax[1,1].set_title("plot 4")

#1.2: The most measurements are in Q4 as visualized by the hexbin plot's saturation

# Task 2


# 2.1:

plt.hist(df['bright_ti4'], bins=15,  range=(290,df.bright_ti4.max()))

# 2.2

fig, ax = plt.subplots(1, 2, figsize=(10, 3),
                       subplot_kw={'xticks': (), 'yticks': ()})
ax[0].hist(df['bright_ti4'], bins=15,  range=(290,359))
ax[1].hist(df['bright_ti4'], bins=5,  range=(360,370))

# 2.3

fig, ax = plt.subplots(1, 1, figsize=(10, 3),
                       subplot_kw={'xticks': (), 'yticks': ()})
ax = plt.hist(df['bright_ti4'], bins=15,  range=(290,359), label = "not saturated")
ax = plt.hist(df['bright_ti4'], bins=5,  range=(360,370), label = "saturated")
plt.legend()

