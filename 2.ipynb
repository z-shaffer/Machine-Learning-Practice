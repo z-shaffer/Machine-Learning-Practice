import matplotlib.pyplot as plt
import pandas as pd
import numpy as np

import warnings
warnings.filterwarnings("ignore")

from sklearn.datasets import fetch_openml

data = fetch_openml('credit-g')

data.data.shape, data.target.shape

data.data

dfCat=data.data.select_dtypes(include=['category'])
dfCont=data.data.select_dtypes(exclude=['category'])
dfObj=data.data.select_dtypes(include=['number'])
dfObj

dfCat.shape, dfCont.shape, dfObj.shape

fig, axes = plt.subplots(2, 7, figsize=(35, 10))

for i, ax in enumerate(axes.ravel()):
    if i>12:
        ax.hist(data.target)
        ax.set_title('Target')
    else:
        ax.hist(dfCat.iloc[:,i])
        ax.set_title(dfCat.keys()[i])
        
    

plt.tight_layout()

fig, axes = plt.subplots(2, 4, figsize=(20, 10))

for i, ax in enumerate(axes.ravel()):
    if i>6:
        continue
    else:
        ax.hist(dfCont.iloc[:,i])
        ax.set_title(dfCont.keys()[i])
        

plt.tight_layout()

from sklearn.model_selection import train_test_split

X_train, X_test, y_train, y_test = train_test_split(data.data, data.target, random_state=0)
X_train.shape, X_test.shape, y_train.shape, y_test.shape

from sklearn.preprocessing import OneHotEncoder

ohe = OneHotEncoder().fit(X_train)
X_train_encoded = ohe.transform(X_train)
X_train_encoded.toarray()

from sklearn.model_selection import cross_val_score, KFold, StratifiedKFold
from sklearn.linear_model import LogisticRegression

rs = cross_val_score(LogisticRegression(), X_train_encoded, y_train, cv=KFold(n_splits=10))
rs, np.mean(rs)

from sklearn.compose import make_column_transformer
from sklearn.pipeline import make_pipeline

categorical = X_train.dtypes == 'category'
preprocess = make_column_transformer((OneHotEncoder(), categorical))
model = make_pipeline(preprocess, LogisticRegression())

rs = cross_val_score(model, X_train, y_train, cv=KFold(n_splits=10))
rs, np.mean(rs)

X_train.dtypes

from sklearn.preprocessing import StandardScaler

preprocess = make_column_transformer(
    (StandardScaler(), ~categorical),
    (OneHotEncoder(), categorical))
model = make_pipeline(preprocess, LogisticRegression())

rs = cross_val_score(model, X_train, y_train, cv=KFold(n_splits=10))
rs, np.mean(rs)

rs = cross_val_score(model, X_train, y_train, cv=StratifiedKFold(n_splits=10, shuffle=True))
rs, np.mean(rs)

from sklearn.neighbors import KNeighborsClassifier

model = make_pipeline(preprocess, KNeighborsClassifier())
rs = cross_val_score(model, X_train, y_train, cv=StratifiedKFold(n_splits=10, shuffle=True))
rs, np.mean(rs)

from sklearn.svm import LinearSVC

model = make_pipeline(preprocess, LinearSVC())
rs = cross_val_score(model, X_train, y_train, cv=StratifiedKFold(n_splits=10, shuffle=True))
rs, np.mean(rs)

from sklearn.model_selection import GridSearchCV

model = make_pipeline(preprocess, LogisticRegression())

param_grid = {'logisticregression__C': np.logspace(-3,3,15)}
grid = GridSearchCV(model, param_grid=param_grid, cv=KFold(n_splits=10), return_train_score=True)
grid.fit(X_train, y_train)

grid.score(X_test, y_test)

grid.best_params_

grid.cv_results_

# Visualizae the result
results = pd.DataFrame(grid.cv_results_)
list(results.keys())

results.param_logisticregression__C.shape,results.mean_train_score.shape

results.plot('param_logisticregression__C', 'mean_train_score')
results.plot('param_logisticregression__C', 'mean_test_score' ,ax=plt.gca())

plt.fill_between(results.param_logisticregression__C.astype(np.float), results.mean_train_score+results.std_train_score, results.mean_train_score-results.std_train_score, alpha=0.2)
plt.fill_between(results.param_logisticregression__C.astype(np.float), results.mean_test_score+results.std_test_score, results.mean_test_score-results.std_test_score, alpha=0.2)

plt.legend()
plt.xscale('log')
