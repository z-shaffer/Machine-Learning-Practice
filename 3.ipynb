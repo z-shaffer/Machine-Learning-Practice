import matplotlib.pyplot as plt
import pandas as pd
import numpy as np
tax
import warnings
warnings.filterwarnings("ignore")

data = pd.read_csv('/content/drive/MyDrive/Week 3/vehicles.csv')

data.shape

features = data.columns
features

import seaborn as sns

corr = data.corr()
mask = np.triu(np.ones_like(corr, dtype=np.bool))
sns.set_style(style = 'dark')
f, ax = plt.subplots(figsize=(10, 10))
cmap = sns.diverging_palette(10, 250, as_cmap=True)
sns.heatmap(corr, mask=mask, cmap=cmap, 
        linewidths=1, ax=ax)

df=data.select_dtypes(include=['number'])
df = df.drop('lat',axis=1)
df = df.drop('odometer',axis=1)
df = df.drop('county',axis=1)
df['year']=df['year'].fillna(df['year'].mean())
df['long']=df['long'].fillna(df['long'].mean())
X = df.drop('long',axis=1)
Y = df['long']

df

from sklearn.model_selection import train_test_split
from sklearn.tree import DecisionTreeClassifier

X_train, X_test, y_train, y_test = train_test_split(X, Y, random_state=0, test_size=.001, train_size=.001)
X_train.shape, X_test.shape, y_train.shape, y_test.shape

from sklearn.preprocessing import OneHotEncoder

ohe = OneHotEncoder().fit(X_train)
X_train_encoded = ohe.transform(X_train)
X_train_encoded.toarray()

from sklearn.model_selection import cross_val_score, KFold, StratifiedKFold
from sklearn.linear_model import LogisticRegression

rs = cross_val_score(LogisticRegression(), X_train_encoded, y_train, cv=KFold(n_splits=10))
rs, np.mean(rs)

from sklearn.compose import make_column_transformer
from sklearn.pipeline import make_pipeline

num = X_train.dtypes == 'number'
preprocess = make_column_transformer((OneHotEncoder(), num))
model = make_pipeline(preprocess, LogisticRegression())

rs = cross_val_score(model, X_train, y_train, cv=KFold(n_splits=5))
rs, np.mean(rs)

from sklearn.preprocessing import StandardScaler

preprocess = make_column_transformer(
    (StandardScaler(), ~num),
    (OneHotEncoder(), num))
model = make_pipeline(preprocess, LogisticRegression())

rs = cross_val_score(model, X_train, y_train, cv=KFold(n_splits=10))
rs, np.mean(rs)

from sklearn.model_selection import GridSearchCV

model = make_pipeline(preprocess, LogisticRegression())

param_grid = {'logisticregression__C': np.logspace(-3,3,15)}
grid = GridSearchCV(model, param_grid=param_grid, cv=KFold(n_splits=10), return_train_score=True)
grid.fit(X_train, y_train)

